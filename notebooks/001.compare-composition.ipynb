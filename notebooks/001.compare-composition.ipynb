{
 "cells": [
  {
   "cell_type": "markdown",
   "id": "4144c451-1d89-4cd5-9af9-a938be55d75c",
   "metadata": {},
   "source": [
    "# "
   ]
  },
  {
   "cell_type": "code",
   "execution_count": 30,
   "id": "3580a16a-0bc2-41aa-a082-f6332198a264",
   "metadata": {},
   "outputs": [],
   "source": [
    "import pandas as pd\n",
    "import sourmash\n",
    "import glob\n",
    "import os"
   ]
  },
  {
   "cell_type": "code",
   "execution_count": 6,
   "id": "5f313b3e-e628-4281-9d8c-af00a6babbaf",
   "metadata": {},
   "outputs": [],
   "source": [
    "fmg_csv = \"../output.roux2017/fastmultigather/roux2017-x-refseq-v219.dna.k21-sc10.t0.gather.csv\""
   ]
  },
  {
   "cell_type": "code",
   "execution_count": 8,
   "id": "ea7640c7-ddb3-499d-93b5-6749bfc2616c",
   "metadata": {},
   "outputs": [
    {
     "data": {
      "text/plain": [
       "['../roux2017-samplecomp/Sample_10_comp.tsv',\n",
       " '../roux2017-samplecomp/Sample_11_comp.tsv',\n",
       " '../roux2017-samplecomp/Sample_7_comp.tsv',\n",
       " '../roux2017-samplecomp/Sample_6_comp.tsv',\n",
       " '../roux2017-samplecomp/Sample_1_comp.tsv',\n",
       " '../roux2017-samplecomp/Sample_4_comp.tsv',\n",
       " '../roux2017-samplecomp/Sample_5_comp.tsv',\n",
       " '../roux2017-samplecomp/Sample_13_comp.tsv',\n",
       " '../roux2017-samplecomp/Sample_12_comp.tsv',\n",
       " '../roux2017-samplecomp/Sample_3_comp.tsv',\n",
       " '../roux2017-samplecomp/Sample_2_comp.tsv',\n",
       " '../roux2017-samplecomp/Sample_14_comp.tsv',\n",
       " '../roux2017-samplecomp/Sample_9_comp.tsv',\n",
       " '../roux2017-samplecomp/Sample_8_comp.tsv']"
      ]
     },
     "execution_count": 8,
     "metadata": {},
     "output_type": "execute_result"
    }
   ],
   "source": [
    "samplecomp_tsvs = glob.glob('../roux2017-samplecomp/*tsv')\n",
    "samplecomp_tsvs"
   ]
  },
  {
   "cell_type": "code",
   "execution_count": 33,
   "id": "834168a5-44ab-4884-93b7-2f230b17bdfc",
   "metadata": {},
   "outputs": [
    {
     "data": {
      "text/html": [
       "<div>\n",
       "<style scoped>\n",
       "    .dataframe tbody tr th:only-of-type {\n",
       "        vertical-align: middle;\n",
       "    }\n",
       "\n",
       "    .dataframe tbody tr th {\n",
       "        vertical-align: top;\n",
       "    }\n",
       "\n",
       "    .dataframe thead th {\n",
       "        text-align: right;\n",
       "    }\n",
       "</style>\n",
       "<table border=\"1\" class=\"dataframe\">\n",
       "  <thead>\n",
       "    <tr style=\"text-align: right;\">\n",
       "      <th></th>\n",
       "      <th>Virus</th>\n",
       "      <th>Name</th>\n",
       "      <th>Coverage</th>\n",
       "      <th>Sample</th>\n",
       "    </tr>\n",
       "  </thead>\n",
       "  <tbody>\n",
       "    <tr>\n",
       "      <th>0</th>\n",
       "      <td>22855216</td>\n",
       "      <td>Pseudomonas phage phi-12 segment S</td>\n",
       "      <td>0.058544</td>\n",
       "      <td>Sample_10</td>\n",
       "    </tr>\n",
       "    <tr>\n",
       "      <th>1</th>\n",
       "      <td>134288688</td>\n",
       "      <td>Burkholderia phage phiE12-2 chromosome</td>\n",
       "      <td>0.054693</td>\n",
       "      <td>Sample_10</td>\n",
       "    </tr>\n",
       "    <tr>\n",
       "      <th>2</th>\n",
       "      <td>530787156</td>\n",
       "      <td>Bacillus phage Troll</td>\n",
       "      <td>0.051090</td>\n",
       "      <td>Sample_10</td>\n",
       "    </tr>\n",
       "    <tr>\n",
       "      <th>3</th>\n",
       "      <td>269838908</td>\n",
       "      <td>Morganella phage MmP1</td>\n",
       "      <td>0.047719</td>\n",
       "      <td>Sample_10</td>\n",
       "    </tr>\n",
       "    <tr>\n",
       "      <th>4</th>\n",
       "      <td>557307743</td>\n",
       "      <td>Mycobacterium phage Fredward</td>\n",
       "      <td>0.044565</td>\n",
       "      <td>Sample_10</td>\n",
       "    </tr>\n",
       "  </tbody>\n",
       "</table>\n",
       "</div>"
      ],
      "text/plain": [
       "       Virus                                    Name  Coverage     Sample\n",
       "0   22855216      Pseudomonas phage phi-12 segment S  0.058544  Sample_10\n",
       "1  134288688  Burkholderia phage phiE12-2 chromosome  0.054693  Sample_10\n",
       "2  530787156                    Bacillus phage Troll  0.051090  Sample_10\n",
       "3  269838908                   Morganella phage MmP1  0.047719  Sample_10\n",
       "4  557307743            Mycobacterium phage Fredward  0.044565  Sample_10"
      ]
     },
     "execution_count": 33,
     "metadata": {},
     "output_type": "execute_result"
    }
   ],
   "source": [
    "cmpDF = pd.concat((pd.read_csv(f, sep='\\t').assign(Sample=os.path.basename(f).split('_comp.tsv')[0]) for f in samplecomp_tsvs), ignore_index=True)\n",
    "cmpDF.rename(columns={'## Virus': 'Virus'}, inplace=True)\n",
    "cmpDF.head()"
   ]
  },
  {
   "cell_type": "code",
   "execution_count": 48,
   "id": "58a0a89a-9521-4791-8bd5-cf4e513798a1",
   "metadata": {},
   "outputs": [
    {
     "data": {
      "text/html": [
       "<div>\n",
       "<style scoped>\n",
       "    .dataframe tbody tr th:only-of-type {\n",
       "        vertical-align: middle;\n",
       "    }\n",
       "\n",
       "    .dataframe tbody tr th {\n",
       "        vertical-align: top;\n",
       "    }\n",
       "\n",
       "    .dataframe thead th {\n",
       "        text-align: right;\n",
       "    }\n",
       "</style>\n",
       "<table border=\"1\" class=\"dataframe\">\n",
       "  <thead>\n",
       "    <tr style=\"text-align: right;\">\n",
       "      <th></th>\n",
       "      <th>query_name</th>\n",
       "      <th>query_md5</th>\n",
       "      <th>match_name</th>\n",
       "      <th>match_md5</th>\n",
       "      <th>f_match_query</th>\n",
       "      <th>intersect_bp</th>\n",
       "      <th>Name</th>\n",
       "    </tr>\n",
       "  </thead>\n",
       "  <tbody>\n",
       "    <tr>\n",
       "      <th>0</th>\n",
       "      <td>Sample_5</td>\n",
       "      <td>cc604cf6c7bbd9634d06112a8bcacdb3</td>\n",
       "      <td>gi|388684650|ref|NC_017972.1| Pseudomonas phag...</td>\n",
       "      <td>8e4254b5af76d576145006347d533040</td>\n",
       "      <td>0.999964</td>\n",
       "      <td>281400</td>\n",
       "      <td>Pseudomonas phage Lu11, complete genome</td>\n",
       "    </tr>\n",
       "    <tr>\n",
       "      <th>1</th>\n",
       "      <td>Sample_5</td>\n",
       "      <td>cc604cf6c7bbd9634d06112a8bcacdb3</td>\n",
       "      <td>gi|414088861|ref|NC_019408.1| Caulobacter phag...</td>\n",
       "      <td>e1376543b913375166cbb1750b40e2e4</td>\n",
       "      <td>1.000000</td>\n",
       "      <td>213260</td>\n",
       "      <td>Caulobacter phage CcrRogue, complete genome</td>\n",
       "    </tr>\n",
       "    <tr>\n",
       "      <th>2</th>\n",
       "      <td>Sample_5</td>\n",
       "      <td>cc604cf6c7bbd9634d06112a8bcacdb3</td>\n",
       "      <td>gi|418487144|ref|NC_019443.1| Synechococcus ph...</td>\n",
       "      <td>f9f22f4efe6f9e4aa35902ba4dd5b534</td>\n",
       "      <td>0.999710</td>\n",
       "      <td>172550</td>\n",
       "      <td>Synechococcus phage metaG-MbCM1, complete genome</td>\n",
       "    </tr>\n",
       "    <tr>\n",
       "      <th>3</th>\n",
       "      <td>Sample_5</td>\n",
       "      <td>cc604cf6c7bbd9634d06112a8bcacdb3</td>\n",
       "      <td>gi|460042674|ref|NC_020486.1| Synechococcus ph...</td>\n",
       "      <td>f5d4f2e624ffb0caed5a7abe11c536df</td>\n",
       "      <td>0.995892</td>\n",
       "      <td>170300</td>\n",
       "      <td>Synechococcus phage S-RIM8 A.HR1, complete genome</td>\n",
       "    </tr>\n",
       "    <tr>\n",
       "      <th>4</th>\n",
       "      <td>Sample_5</td>\n",
       "      <td>cc604cf6c7bbd9634d06112a8bcacdb3</td>\n",
       "      <td>gi|29366675|ref|NC_000866.4| Enterobacteria ph...</td>\n",
       "      <td>f7691cb10a71235d9ef18cfab0b9a642</td>\n",
       "      <td>0.999701</td>\n",
       "      <td>167200</td>\n",
       "      <td>Enterobacteria phage T4, complete genome</td>\n",
       "    </tr>\n",
       "  </tbody>\n",
       "</table>\n",
       "</div>"
      ],
      "text/plain": [
       "  query_name                         query_md5  \\\n",
       "0   Sample_5  cc604cf6c7bbd9634d06112a8bcacdb3   \n",
       "1   Sample_5  cc604cf6c7bbd9634d06112a8bcacdb3   \n",
       "2   Sample_5  cc604cf6c7bbd9634d06112a8bcacdb3   \n",
       "3   Sample_5  cc604cf6c7bbd9634d06112a8bcacdb3   \n",
       "4   Sample_5  cc604cf6c7bbd9634d06112a8bcacdb3   \n",
       "\n",
       "                                          match_name  \\\n",
       "0  gi|388684650|ref|NC_017972.1| Pseudomonas phag...   \n",
       "1  gi|414088861|ref|NC_019408.1| Caulobacter phag...   \n",
       "2  gi|418487144|ref|NC_019443.1| Synechococcus ph...   \n",
       "3  gi|460042674|ref|NC_020486.1| Synechococcus ph...   \n",
       "4  gi|29366675|ref|NC_000866.4| Enterobacteria ph...   \n",
       "\n",
       "                          match_md5  f_match_query  intersect_bp  \\\n",
       "0  8e4254b5af76d576145006347d533040       0.999964        281400   \n",
       "1  e1376543b913375166cbb1750b40e2e4       1.000000        213260   \n",
       "2  f9f22f4efe6f9e4aa35902ba4dd5b534       0.999710        172550   \n",
       "3  f5d4f2e624ffb0caed5a7abe11c536df       0.995892        170300   \n",
       "4  f7691cb10a71235d9ef18cfab0b9a642       0.999701        167200   \n",
       "\n",
       "                                                Name  \n",
       "0            Pseudomonas phage Lu11, complete genome  \n",
       "1        Caulobacter phage CcrRogue, complete genome  \n",
       "2   Synechococcus phage metaG-MbCM1, complete genome  \n",
       "3  Synechococcus phage S-RIM8 A.HR1, complete genome  \n",
       "4           Enterobacteria phage T4, complete genome  "
      ]
     },
     "execution_count": 48,
     "metadata": {},
     "output_type": "execute_result"
    }
   ],
   "source": [
    "fmg = pd.read_csv(fmg_csv)\n",
    "fmg['Name'] = fmg['match_name'].str.split(' ', n=1, expand=True)[1]\n",
    "fmg.head()"
   ]
  },
  {
   "cell_type": "code",
   "execution_count": null,
   "id": "36772df7-4f5d-4ada-87e4-bf564ac3077b",
   "metadata": {},
   "outputs": [],
   "source": [
    "fmg.groupby(['query_name', 'match_name'])"
   ]
  }
 ],
 "metadata": {
  "kernelspec": {
   "display_name": "Python 3 (ipykernel)",
   "language": "python",
   "name": "python3"
  },
  "language_info": {
   "codemirror_mode": {
    "name": "ipython",
    "version": 3
   },
   "file_extension": ".py",
   "mimetype": "text/x-python",
   "name": "python",
   "nbconvert_exporter": "python",
   "pygments_lexer": "ipython3",
   "version": "3.10.12"
  }
 },
 "nbformat": 4,
 "nbformat_minor": 5
}
